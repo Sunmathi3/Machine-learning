{
 "cells": [
  {
   "cell_type": "code",
   "execution_count": 3,
   "id": "2c7f183a",
   "metadata": {},
   "outputs": [
    {
     "name": "stdout",
     "output_type": "stream",
     "text": [
      "[1 2 3 4 5]\n"
     ]
    }
   ],
   "source": [
    "import numpy as np \n",
    "arr = np.array([1, 2, 3, 4, 5]) \n",
    "print(arr) "
   ]
  },
  {
   "cell_type": "code",
   "execution_count": 6,
   "id": "09cde7b4",
   "metadata": {},
   "outputs": [
    {
     "name": "stdout",
     "output_type": "stream",
     "text": [
      "Size of each element of list in bytes:  48\n",
      "Size of the whole list in bytes:  48000\n",
      "Size of the whole Numpy array in bytes:  4000\n"
     ]
    }
   ],
   "source": [
    "import numpy as np \n",
    "import sys \n",
    "S= range(1000) \n",
    "print(\"Size of each element of list in bytes: \", sys.getsizeof(S)) \n",
    "print(\"Size of the whole list in bytes: \" , sys.getsizeof(S)*len (S)) \n",
    "D= np.arange(1000) \n",
    "print(\"Size of the whole Numpy array in bytes: \",D.size*D.itemsize) \n"
   ]
  },
  {
   "cell_type": "code",
   "execution_count": 7,
   "id": "367e19ce",
   "metadata": {},
   "outputs": [
    {
     "name": "stdout",
     "output_type": "stream",
     "text": [
      "42\n",
      "[[1 2 3]\n",
      " [4 5 6]]\n",
      "[[[1 2 3]\n",
      "  [4 5 6]]\n",
      "\n",
      " [[1 2 3]\n",
      "  [4 5 6]]]\n"
     ]
    }
   ],
   "source": [
    "import numpy as np \n",
    "arr = np.array(42) \n",
    "print(arr) \n",
    "arr = np.array([[1, 2, 3], [4, 5, 6]]) \n",
    "print(arr) \n",
    "arr = np.array([[[1, 2, 3], [4, 5, 6]], [[1, 2, 3], [4, 5, 6]]]) \n",
    "print(arr) \n"
   ]
  },
  {
   "cell_type": "code",
   "execution_count": 9,
   "id": "01ad44b6",
   "metadata": {},
   "outputs": [
    {
     "name": "stdout",
     "output_type": "stream",
     "text": [
      "[[0. 0.]\n",
      " [0. 0.]\n",
      " [0. 0.]\n",
      " [0. 0.]\n",
      " [0. 0.]]\n",
      "[[0. 0. 0.]\n",
      " [0. 0. 0.]]\n",
      "\n",
      "Array of zeros with integer elements: \n",
      " [[0. 0. 0.]\n",
      " [0. 0. 0.]]\n"
     ]
    }
   ],
   "source": [
    "import numpy as np \n",
    "zeros_arr = np.zeros((5,2)) \n",
    "eros_arr = np.zeros(5) \n",
    "print(zeros_arr) \n",
    "zeros_arr = np.zeros((2,3)) \n",
    "print(zeros_arr) \n",
    "print(\"\\nArray of zeros with integer elements: \\n\", zeros_arr) \n"
   ]
  },
  {
   "cell_type": "code",
   "execution_count": 10,
   "id": "c716d7b3",
   "metadata": {},
   "outputs": [
    {
     "name": "stdout",
     "output_type": "stream",
     "text": [
      "[1. 1. 1. 1. 1. 1.]\n"
     ]
    }
   ],
   "source": [
    "import numpy as np \n",
    "ones_arr = np.ones(6) \n",
    "print(ones_arr) \n"
   ]
  },
  {
   "cell_type": "code",
   "execution_count": 11,
   "id": "43d5932c",
   "metadata": {},
   "outputs": [
    {
     "name": "stdout",
     "output_type": "stream",
     "text": [
      "[[1. 1.]\n",
      " [1. 1.]\n",
      " [1. 1.]]\n",
      "\n",
      "Data type of the array:  float64\n"
     ]
    }
   ],
   "source": [
    "import numpy as np \n",
    "empty_arr = np.empty((3,2)) \n",
    "print(empty_arr) \n",
    "print(\"\\nData type of the array: \", empty_arr.dtype) \n"
   ]
  },
  {
   "cell_type": "code",
   "execution_count": 12,
   "id": "0891809b",
   "metadata": {},
   "outputs": [
    {
     "name": "stdout",
     "output_type": "stream",
     "text": [
      "[[1. 0. 0.]\n",
      " [0. 1. 0.]\n",
      " [0. 0. 1.]]\n",
      "\n",
      " [[1. 0. 0. 0.]\n",
      " [0. 1. 0. 0.]\n",
      " [0. 0. 1. 0.]\n",
      " [0. 0. 0. 1.]]\n"
     ]
    }
   ],
   "source": [
    "import numpy as np \n",
    "identity_matrix = np.eye (3) \n",
    "print(identity_matrix) \n",
    "identity_matrix = np. eye (4) \n",
    "print(\"\\n\", identity_matrix) \n"
   ]
  },
  {
   "cell_type": "code",
   "execution_count": 14,
   "id": "562f49fc",
   "metadata": {},
   "outputs": [
    {
     "name": "stdout",
     "output_type": "stream",
     "text": [
      "float64\n",
      "int32\n"
     ]
    }
   ],
   "source": [
    "import numpy as np \n",
    "arr1 = np.array([1, 2, 3], dtype=np. float64) \n",
    "arr2 = np.array([1, 2, 3], dtype=np.int32) \n",
    "print(arr1.dtype) \n",
    "print(arr2.dtype) \n"
   ]
  },
  {
   "cell_type": "code",
   "execution_count": 15,
   "id": "fad7003c",
   "metadata": {},
   "outputs": [
    {
     "name": "stdout",
     "output_type": "stream",
     "text": [
      "Before converting:  [1 2 3] int32\n",
      "After converting:  [1. 2. 3.] float32\n"
     ]
    }
   ],
   "source": [
    "import numpy as np \n",
    "arr = np.array([1, 2, 3]) \n",
    "print(\"Before converting: \", arr, arr.dtype) \n",
    "new_arr = arr.astype('f') \n",
    "print(\"After converting: \", new_arr, new_arr.dtype) \n"
   ]
  },
  {
   "cell_type": "code",
   "execution_count": 16,
   "id": "dbc09cb9",
   "metadata": {},
   "outputs": [
    {
     "name": "stdout",
     "output_type": "stream",
     "text": [
      "array 1\n",
      " [0 1 2 3 4 5 6 7 8 9] int32\n",
      "Array 2 \n",
      " [-0.97032995  0.54505518 -0.02200764 -1.96060867  0.25644443 -0.72934162\n",
      "  2.39872393  1.29475914 -0.2717836  -0.38230023] float64\n",
      "New Array \n",
      " [0. 1. 2. 3. 4. 5. 6. 7. 8. 9.] float64\n"
     ]
    }
   ],
   "source": [
    "import numpy as np \n",
    "arr1 = np.arange(10) \n",
    "arr2 = np.random. randn (10) \n",
    "print(\"array 1\\n\", arr1, arr1.dtype) \n",
    "print(\"Array 2 \\n\", arr2, arr2.dtype) \n",
    "new_arr = arr1.astype (arr2.dtype) \n",
    "arr1.astype(arr2.dtype) \n",
    "print(\"New Array \\n\", new_arr, new_arr.dtype) \n"
   ]
  },
  {
   "cell_type": "code",
   "execution_count": 17,
   "id": "a25c63e4",
   "metadata": {},
   "outputs": [
    {
     "name": "stdout",
     "output_type": "stream",
     "text": [
      "['hello' 'world' 'numpy']\n"
     ]
    }
   ],
   "source": [
    "import numpy as np \n",
    "str_arr = np.array(['hello', 'world', 'numpy']) \n",
    "print(str_arr) \n"
   ]
  },
  {
   "cell_type": "code",
   "execution_count": 21,
   "id": "6d80bf92",
   "metadata": {},
   "outputs": [
    {
     "name": "stdout",
     "output_type": "stream",
     "text": [
      "[ 6.  8. 10. 12.]\n",
      "[1.0000e+00 6.4000e+01 2.1870e+03 6.5536e+04]\n"
     ]
    }
   ],
   "source": [
    "import numpy as np \n",
    "a = np.array([1., 2., 3., 4.])\n",
    "b = np.array([5., 6., 7., 8.]) \n",
    "print(a + b)\n",
    "print(a ** b) "
   ]
  },
  {
   "cell_type": "code",
   "execution_count": 23,
   "id": "18fdad8c",
   "metadata": {},
   "outputs": [
    {
     "name": "stdout",
     "output_type": "stream",
     "text": [
      "[[ 0  1  2]\n",
      " [ 3  4  5]\n",
      " [ 6  7  8]\n",
      " [ 9 10 11]]\n",
      "\n",
      " [[ 0  4  8]\n",
      " [ 1  5  9]\n",
      " [ 2  6 10]\n",
      " [ 3  7 11]]\n"
     ]
    }
   ],
   "source": [
    "import numpy as np \n",
    "arr = np.arange(12) \n",
    "newarr = arr.reshape(4, 3) \n",
    "print(newarr) \n",
    "newarr = arr.reshape((4, 3), order='F')\n",
    "print(\"\\n\", newarr) \n"
   ]
  },
  {
   "cell_type": "code",
   "execution_count": 24,
   "id": "fb47091c",
   "metadata": {},
   "outputs": [
    {
     "name": "stdout",
     "output_type": "stream",
     "text": [
      "[[ 1  2  3  4  9 10]\n",
      " [ 5  6  7  8 11 12]]\n",
      "\n",
      " [[[ 1  2]\n",
      "  [ 3  4]]\n",
      "\n",
      " [[ 9 10]\n",
      "  [ 5  6]]\n",
      "\n",
      " [[ 7  8]\n",
      "  [11 12]]]\n",
      "\n",
      " reshape (3,-1) \n",
      " [[ 1  2  3  4]\n",
      " [ 9 10  5  6]\n",
      " [ 7  8 11 12]]\n"
     ]
    }
   ],
   "source": [
    "import numpy as np \n",
    "arr = np.array([[1, 2, 3, 4,9,10], [5, 6, 7, 8,11,12]]) \n",
    "print(arr) \n",
    "newarr = arr. reshape (3, 2, 2) \n",
    "print(\"\\n\", newarr) \n",
    "newarr1 = newarr.reshape(3, -1) \n",
    "print(\"\\n reshape (3,-1) \\n\", newarr1) \n"
   ]
  },
  {
   "cell_type": "code",
   "execution_count": 32,
   "id": "8aa562ed",
   "metadata": {},
   "outputs": [
    {
     "name": "stdout",
     "output_type": "stream",
     "text": [
      "Greater than: \n",
      " [[False  True]\n",
      " [False False]]\n",
      "\n",
      "Less than: \n",
      " [[ True False]\n",
      " [False  True]]\n",
      "\n",
      "Equal to: \n",
      " [[False False]\n",
      " [ True False]]\n",
      "\n",
      "Array-wise comparison 1: True\n",
      "Array-wise comparison 2: False\n"
     ]
    }
   ],
   "source": [
    "import numpy as np\n",
    "\n",
    "arr1 = np.array([[1, 2], [3, 4]])\n",
    "arr2 = np.array([[2, 1], [3, 5]])\n",
    "\n",
    "greater_than = arr1 > arr2\n",
    "less_than = arr1 < arr2\n",
    "equal_to = arr1 == arr2\n",
    "\n",
    "print(\"Greater than: \\n\", greater_than)\n",
    "print(\"\\nLess than: \\n\", less_than)\n",
    "print(\"\\nEqual to: \\n\", equal_to)\n",
    "\n",
    "arr3 = np.array([1, 2, 3])\n",
    "arr4 = np.array([1, 2, 3])\n",
    "arr5 = np.array([1, 2, 4])\n",
    "\n",
    "result1 = np.array_equal(arr3, arr4)  \n",
    "result2 = np.array_equal(arr3, arr5) \n",
    "\n",
    "print(\"\\nArray-wise comparison 1:\", result1)\n",
    "print(\"Array-wise comparison 2:\", result2)\n"
   ]
  },
  {
   "cell_type": "code",
   "execution_count": 34,
   "id": "7e7eda12",
   "metadata": {},
   "outputs": [
    {
     "name": "stdout",
     "output_type": "stream",
     "text": [
      "x = [0 1 2 3 4 5 6 7 8 9]\n",
      "\n",
      "x[:5] = [0 1 2 3 4]\n",
      "\n",
      "x[5:] = [5 6 7 8 9]\n",
      "\n",
      "x[4:7] = [4 5 6]\n",
      "\n",
      "x[::2] = [0 2 4 6 8]\n",
      "\n",
      "x[1::2] = [1 3 5 7 9]\n",
      "\n",
      "x[::-1] = [9 8 7 6 5 4 3 2 1 0]\n",
      "\n",
      "x[5::-2] = [5 3 1]\n",
      "\n",
      "After broadcasting1: [0 1 2 3 4 2 6 7 8 9]\n",
      "\n",
      "After broadcasting2: [100   1 100   3 100   2 100   7 100   9]\n",
      "\n",
      " [12  5  2  4]\n",
      "1\n",
      "8\n",
      "7\n",
      "[12  5  2  4]\n",
      "8\n"
     ]
    }
   ],
   "source": [
    "import numpy as np\n",
    "\n",
    "x = np.arange(10)\n",
    "print(\"x =\", x)\n",
    "\n",
    "print(\"\\nx[:5] =\", x[:5])\n",
    "print(\"\\nx[5:] =\", x[5:])\n",
    "print(\"\\nx[4:7] =\", x[4:7])\n",
    "print(\"\\nx[::2] =\", x[::2])\n",
    "print(\"\\nx[1::2] =\", x[1::2])\n",
    "print(\"\\nx[::-1] =\", x[::-1])\n",
    "print(\"\\nx[5::-2] =\", x[5::-2])\n",
    "\n",
    "x[5] = 2\n",
    "print(\"\\nAfter broadcasting1:\", x)\n",
    "\n",
    "x[::2] = 100\n",
    "print(\"\\nAfter broadcasting2:\", x)\n",
    "\n",
    "\n",
    "x2 = np.array([\n",
    "    [12, 5, 2, 4],\n",
    "    [7, 6, 8, 8],\n",
    "    [1, 6, 7, 7]\n",
    "])\n",
    "\n",
    "print(\"\\n\", x2[0])\n",
    "print(x2[2, 0])\n",
    "print(x2[1, 2])\n",
    "print(x2[2, -1])\n",
    "print(x2[0])\n",
    "print(x2[1][2])\n"
   ]
  },
  {
   "cell_type": "code",
   "execution_count": 35,
   "id": "3680a13b",
   "metadata": {},
   "outputs": [
    {
     "name": "stdout",
     "output_type": "stream",
     "text": [
      "x2 =\n",
      " [[12  5  2  4]\n",
      " [ 7  6  8  8]\n",
      " [ 1  6  7  7]]\n",
      "\n",
      "x2[:2, :3] =\n",
      " [[12  5  2]\n",
      " [ 7  6  8]]\n",
      "\n",
      "x2[:3, ::2] =\n",
      " [[12  2]\n",
      " [ 7  8]\n",
      " [ 1  7]]\n",
      "\n",
      "x2[::-1, ::-1] =\n",
      " [[ 7  7  6  1]\n",
      " [ 8  8  6  7]\n",
      " [ 4  2  5 12]]\n",
      "\n",
      "x2[::-1] =\n",
      " [[ 1  6  7  7]\n",
      " [ 7  6  8  8]\n",
      " [12  5  2  4]]\n"
     ]
    }
   ],
   "source": [
    "import numpy as np\n",
    "\n",
    "x2 = np.array([\n",
    "    [12, 5, 2, 4],\n",
    "    [7, 6, 8, 8],\n",
    "    [1, 6, 7, 7]\n",
    "])\n",
    "\n",
    "print(\"x2 =\\n\", x2)\n",
    "\n",
    "print(\"\\nx2[:2, :3] =\\n\", x2[:2, :3])    \n",
    "print(\"\\nx2[:3, ::2] =\\n\", x2[:3, ::2])  \n",
    "print(\"\\nx2[::-1, ::-1] =\\n\", x2[::-1, ::-1])  \n",
    "print(\"\\nx2[::-1] =\\n\", x2[::-1])        "
   ]
  },
  {
   "cell_type": "code",
   "execution_count": 36,
   "id": "a3a7bda6",
   "metadata": {},
   "outputs": [
    {
     "name": "stdout",
     "output_type": "stream",
     "text": [
      "a= \n",
      " [[ 0  1  2  3]\n",
      " [ 4  5  6  7]\n",
      " [ 8  9 10 11]]\n",
      "b= \n",
      " [[False False False False]\n",
      " [False  True  True  True]\n",
      " [ True  True  True  True]]\n",
      "a[b]= \n",
      " [ 5  6  7  8  9 10 11]\n",
      "a after assignment= \n",
      " [[0 1 2 3]\n",
      " [4 1 1 1]\n",
      " [1 1 1 1]]\n",
      "\n",
      "names =  ['Bob' 'Joe' 'Will' 'Bob' 'Will' 'Joe' 'Joe']\n",
      "data = \n",
      " [[ 0  1  2  3]\n",
      " [ 4  5  6  7]\n",
      " [ 8  9 10 11]\n",
      " [12 13 14 15]\n",
      " [16 17 18 19]\n",
      " [20 21 22 23]\n",
      " [24 25 26 27]]\n",
      "\n",
      "names == 'Bob':\n",
      " [ True False False  True False False False]\n",
      "\n",
      "data[names == 'Bob']:\n",
      " [[ 0  1  2  3]\n",
      " [12 13 14 15]]\n",
      "\n",
      "data[names == 'Bob', 2:]:\n",
      " [[ 2  3]\n",
      " [14 15]]\n",
      "\n",
      "data[names == 'Bob', 3]:\n",
      " [ 3 15]\n",
      "\n",
      "arr =\n",
      " [[ 0  1  2  3]\n",
      " [ 4  5  6  7]\n",
      " [ 8  9 10 11]\n",
      " [12 13 14 15]\n",
      " [16 17 18 19]\n",
      " [20 21 22 23]\n",
      " [24 25 26 27]\n",
      " [28 29 30 31]]\n",
      "\n",
      "arr[[1, 5, 7, 2]] =\n",
      " [[ 4  5  6  7]\n",
      " [20 21 22 23]\n",
      " [28 29 30 31]\n",
      " [ 8  9 10 11]]\n",
      "\n",
      "arr[[1, 5, 7, 2], [0, 3, 1, 2]] =\n",
      " [ 4 23 29 10]\n",
      "\n",
      "arr[[1, 5, 7, 2]][:, [0, 3, 1, 2]] =\n",
      " [[ 4  7  5  6]\n",
      " [20 23 21 22]\n",
      " [28 31 29 30]\n",
      " [ 8 11  9 10]]\n",
      "\n",
      "arr[[-3, -5, -7]] =\n",
      " [[20 21 22 23]\n",
      " [12 13 14 15]\n",
      " [ 4  5  6  7]]\n",
      "\n",
      "arr after assignment =\n",
      " [[ 0  1  2  3]\n",
      " [ 1  1  1  1]\n",
      " [ 1  1  1  1]\n",
      " [12 13 14 15]\n",
      " [16 17 18 19]\n",
      " [ 1  1  1  1]\n",
      " [24 25 26 27]\n",
      " [ 1  1  1  1]]\n"
     ]
    }
   ],
   "source": [
    "import numpy as np\n",
    "\n",
    "a = np.arange(12).reshape(3, 4)\n",
    "print(\"a= \\n\", a)\n",
    "\n",
    "b = a > 4\n",
    "print(\"b= \\n\", b)\n",
    "\n",
    "print(\"a[b]= \\n\", a[b])\n",
    "\n",
    "a[b] = 1\n",
    "print(\"a after assignment= \\n\", a)\n",
    "\n",
    "\n",
    "names = np.array(['Bob', 'Joe', 'Will', 'Bob', 'Will', 'Joe', 'Joe'])\n",
    "data = np.arange(28).reshape(7, 4)\n",
    "\n",
    "print(\"\\nnames = \", names)\n",
    "print(\"data = \\n\", data)\n",
    "\n",
    "print(\"\\nnames == 'Bob':\\n\", names == 'Bob')\n",
    "\n",
    "print(\"\\ndata[names == 'Bob']:\\n\", data[names == 'Bob'])\n",
    "print(\"\\ndata[names == 'Bob', 2:]:\\n\", data[names == 'Bob', 2:])\n",
    "print(\"\\ndata[names == 'Bob', 3]:\\n\", data[names == 'Bob', 3])\n",
    "\n",
    "\n",
    "arr = np.arange(32).reshape(8, 4)\n",
    "print(\"\\narr =\\n\", arr)\n",
    "\n",
    "print(\"\\narr[[1, 5, 7, 2]] =\\n\", arr[[1, 5, 7, 2]])\n",
    "print(\"\\narr[[1, 5, 7, 2], [0, 3, 1, 2]] =\\n\", arr[[1, 5, 7, 2], [0, 3, 1, 2]])\n",
    "print(\"\\narr[[1, 5, 7, 2]][:, [0, 3, 1, 2]] =\\n\", arr[[1, 5, 7, 2]][:, [0, 3, 1, 2]])\n",
    "print(\"\\narr[[-3, -5, -7]] =\\n\", arr[[-3, -5, -7]])\n",
    "\n",
    "arr[[1, 5, 7, 2]] = 1\n",
    "print(\"\\narr after assignment =\\n\", arr)\n"
   ]
  },
  {
   "cell_type": "code",
   "execution_count": null,
   "id": "31346b15",
   "metadata": {},
   "outputs": [],
   "source": []
  }
 ],
 "metadata": {
  "kernelspec": {
   "display_name": "Python 3 (ipykernel)",
   "language": "python",
   "name": "python3"
  },
  "language_info": {
   "codemirror_mode": {
    "name": "ipython",
    "version": 3
   },
   "file_extension": ".py",
   "mimetype": "text/x-python",
   "name": "python",
   "nbconvert_exporter": "python",
   "pygments_lexer": "ipython3",
   "version": "3.9.12"
  }
 },
 "nbformat": 4,
 "nbformat_minor": 5
}
